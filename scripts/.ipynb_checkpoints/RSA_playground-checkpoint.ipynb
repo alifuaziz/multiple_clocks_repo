{
 "cells": [
  {
   "cell_type": "code",
   "execution_count": 1,
   "id": "1f9186f9",
   "metadata": {},
   "outputs": [],
   "source": [
    "import numpy as np\n",
    "import nibabel as nib\n",
    "import os\n",
    "import re\n",
    "from rsatoolbox.inference import eval_fixed\n",
    "from rsatoolbox.model import ModelFixed"
   ]
  },
  {
   "cell_type": "code",
   "execution_count": null,
   "id": "16250c48",
   "metadata": {},
   "outputs": [],
   "source": [
    "subjects = ['sub-01']\n",
    "task_halves = ['1', '2']\n",
    "RDM_version = '01'\n",
    "no_RDM_conditions = 80"
   ]
  }
 ],
 "metadata": {
  "kernelspec": {
   "display_name": "Python 3 (ipykernel)",
   "language": "python",
   "name": "python3"
  },
  "language_info": {
   "codemirror_mode": {
    "name": "ipython",
    "version": 3
   },
   "file_extension": ".py",
   "mimetype": "text/x-python",
   "name": "python",
   "nbconvert_exporter": "python",
   "pygments_lexer": "ipython3",
   "version": "3.8.15"
  }
 },
 "nbformat": 4,
 "nbformat_minor": 5
}

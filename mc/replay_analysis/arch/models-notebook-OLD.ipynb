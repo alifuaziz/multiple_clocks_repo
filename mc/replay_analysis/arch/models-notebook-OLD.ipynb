{
 "cells": [
  {
   "cell_type": "markdown",
   "metadata": {},
   "source": [
    "## Imports"
   ]
  },
  {
   "cell_type": "code",
   "execution_count": 2,
   "metadata": {},
   "outputs": [],
   "source": [
    "# Auto reload modules\n",
    "%load_ext autoreload\n",
    "%autoreload 2"
   ]
  },
  {
   "cell_type": "code",
   "execution_count": 3,
   "metadata": {},
   "outputs": [],
   "source": [
    "# Standard Libraries\n",
    "import pandas as pd\n",
    "import os\n",
    "import numpy as np\n",
    "import matplotlib.pyplot as plt\n",
    "import pickle\n",
    "import sys\n",
    "from pathlib import Path\n",
    "# RSA specific libraries\n",
    "\n",
    "# Multiple Clocks Repositiory\n",
    "import mc\n",
    "import mc.analyse.analyse_MRI_behav     as analyse_MRI_behav\n",
    "import mc.analyse.extract_and_clean     as extract_and_clean\n",
    "import mc.simulation.predictions        as predictions\n",
    "import mc.simulation.RDMs               as RDMs\n",
    "import mc.replay_analysis.functions.utils         as utils\n",
    "import mc.replay_analysis.functions.visualise     as v\n",
    "import mc.replay_analysis.functions.data_rdms     as data_rdms\n",
    "import mc.replay_analysis.functions.model_rdms    as model_rdms\n",
    "\n"
   ]
  },
  {
   "cell_type": "code",
   "execution_count": 4,
   "metadata": {},
   "outputs": [],
   "source": [
    "\n",
    "REGRESSION_VERSION = '01' \n",
    "RDM_VERSION        = '01-2' \n",
    "\n",
    "SUBJECT_NO = '01'\n",
    "\n",
    "# Behavioural data directory\n",
    "DATA_DIR = Path(\"/Users/student/PycharmProjects/data\")\n",
    "DATA_DIR_BEHAV = DATA_DIR / 'raw' / 'sub-{SUBJECT_NO}' / 'beh'\n",
    "\n",
    "TEMPORAL_RESOLUTION = 10\n",
    "subjects_list: list = [f\"sub-{SUBJECT_NO}\"]\n",
    "sub = subjects_list[0]\n",
    "task_halves: list = ['1', '2']\n",
    "\n",
    "# Flag to plot the RDMs\n",
    "FMRI_PLOTTING = True\n",
    "# Flag to save the RDMs and the regressors\n",
    "FMRI_SAVE = True\n",
    "RDM_SIMILARITY_MEASURE = \"pearson\" # default is 'pearson'\n",
    "ADD_RUN_COUNTS_MODEL = False # this doesn't work with the current analysis\n",
    "\n",
    "# Get the list of the models to analyse  \n",
    "models_i_want: list = analyse_MRI_behav.models_I_want(RDM_VERSION)\n",
    "\n"
   ]
  },
  {
   "cell_type": "markdown",
   "metadata": {},
   "source": [
    "## get correct working directory"
   ]
  },
  {
   "cell_type": "code",
   "execution_count": 5,
   "metadata": {},
   "outputs": [
    {
     "name": "stdout",
     "output_type": "stream",
     "text": [
      "Running on laptop.\n",
      "task half 1\n",
      "Running on laptop.\n",
      "task half 2\n"
     ]
    }
   ],
   "source": [
    "configs_dict = {}\n",
    "models_between_task_halves = {}\n",
    "\n",
    "# for each half of the task do the following\n",
    "for task_half in task_halves:\n",
    "    # 1. Extract the behavioural data from the .csv to appropriate dictionaries\n",
    "    # Select the correct file path as a directory for the behavioural .csv file\n",
    "    DATA_DIR_BEHAV = DATA_DIR / 'raw' / f'{sub}' / 'beh'\n",
    "\n",
    "    RDM_dir = DATA_DIR / 'derivatives' / f'{sub}' / 'beh' / f'RDMs_{RDM_VERSION}_glmbase_{REGRESSION_VERSION}'\n",
    "\n",
    "    if os.path.isdir(DATA_DIR_BEHAV):\n",
    "        print(\"Running on laptop.\")\n",
    "    else:\n",
    "        DATA_DIR_BEHAV = DATA_DIR / f'{sub}' / 'beh'\n",
    "        RDM_dir = '{DATA_DIR}' /'derivatives' / f'{sub}' / 'beh' / 'RDMs_{RDM_VERSION}_glmbase_{REGRESSION_VERSION}'\n",
    "        print(f\"Running on Cluster, setting {DATA_DIR_BEHAV} as data directory\")\n",
    "        \n",
    "    # file = data_dir_behav + f\"{sub}_fmri_pt{task_half}.csv\"\n",
    "    file = f\"{DATA_DIR}/raw/sub-01/beh\" + f\"/{sub}_fmri_pt{task_half}.csv\"\n",
    "\n",
    "    # 1. Extract the behavioural data from the .csv to appropriate dictionaries\n",
    "    configs, rew_list, rew_index, walked_path, steps_subpath_alltasks_empty, subpath_after_steps, timings, regressors = analyse_MRI_behav.extract_behaviour(file)\n",
    "\n",
    "    # 2. Create the regressors for the GLM\n",
    "    # so now, account for the temporal resolution that you want\n",
    "    for reg in regressors:\n",
    "        # For each regressor, \n",
    "        regressors[reg] = np.repeat(regressors[reg], repeats = TEMPORAL_RESOLUTION)\n",
    "    \n",
    "    # Overview of the reward fields per task.\n",
    "    steps_subpath_alltasks = analyse_MRI_behav.subpath_files(configs, subpath_after_steps, rew_list, rew_index, steps_subpath_alltasks_empty)\n",
    "\n",
    "    # prepare the between-tasks dictionary.\n",
    "    all_models_dict = {f\"{model}\": {key: \"\" for key in configs} for model in models_i_want}\n",
    "\n",
    "    # then, lastly, save the all_models_dict in the respective task_half.\n",
    "    models_between_task_halves[task_half] = all_models_dict\n",
    "    print(f\"task half {task_half}\")\n",
    "    configs_dict[task_half] = rew_list\n",
    "\n",
    "\n",
    "\n"
   ]
  },
  {
   "cell_type": "code",
   "execution_count": 6,
   "metadata": {},
   "outputs": [
    {
     "name": "stderr",
     "output_type": "stream",
     "text": [
      "/Users/student/anaconda3/envs/rsa/lib/python3.11/site-packages/numpy/lib/function_base.py:2897: RuntimeWarning: invalid value encountered in divide\n",
      "  c /= stddev[:, None]\n",
      "/Users/student/anaconda3/envs/rsa/lib/python3.11/site-packages/numpy/lib/function_base.py:2898: RuntimeWarning: invalid value encountered in divide\n",
      "  c /= stddev[None, :]\n"
     ]
    }
   ],
   "source": [
    "RDM_VERSION = '01'\n",
    "\n",
    "if RDM_VERSION == '01': # I have to work on this one further for the replay analysis (temporal + spatial)\n",
    "# out of the between-halves loop\n",
    "    # NOTE: this has been fixed in a \"hacky\" way. by defining the correct dictionary for the RDM_verision = \"01\". This potentially fine because this function is called when RDM_version == \"01\"\n",
    "    models_between_tasks = analyse_MRI_behav.similarity_of_tasks(\n",
    "        configs_dict, \n",
    "        RDM_VERSION = RDM_VERSION) \n",
    "    \n",
    "    models_sorted_into_splits = models_between_tasks.copy()\n",
    "    \n",
    "    sorted_keys_dict = extract_and_clean.order_task_according_to_rewards(configs_dict)\n",
    "\n",
    "# if the RDM_version is \n",
    "elif RDM_VERSION == '01-2':\n",
    "    # Create sorted_keys_dict for the RDMs\n",
    "    sorted_keys_dict = extract_and_clean.order_task_according_to_rewards(configs_dict)\n",
    "    # create dictionary (for both halves, splits) that contains the neural model for each condition being tested\n",
    "    models_sorted_into_splits = model_rdm_functions.create_model_RDMs(\n",
    "        configs_dict = configs_dict,\n",
    "        USE_NEURON_MODEL = True\n",
    "    )\n",
    "\n",
    "\n"
   ]
  },
  {
   "cell_type": "code",
   "execution_count": 19,
   "metadata": {},
   "outputs": [
    {
     "name": "stdout",
     "output_type": "stream",
     "text": [
      "Saving the RDMs object\n"
     ]
    },
    {
     "data": {
      "image/png": "[encoded data removed]",
      "text/plain": [
       "<Figure size 640x480 with 2 Axes>"
      ]
     },
     "metadata": {},
     "output_type": "display_data"
    }
   ],
   "source": [
    "from rsatoolbox.rdm.rdms import RDMs as RDMs_object\n",
    "\n",
    "def create_matrix_replay(EVs):\n",
    "        # create the empty RDM array\n",
    "        rdm_array = np.zeros((len(EVs), len(EVs)))\n",
    "\n",
    "        # For first condition\n",
    "        for EV1_idx, EV1 in enumerate(EVs):\n",
    "            # for second condition\n",
    "            for EV2_idx, EV2 in enumerate(EVs):\n",
    "                # compare the conditions\n",
    "                \n",
    "                if EV1[0] == EV2[0]: #(A, B, C, D, E) (A == A)\n",
    "                    # the set of rewards are the same\n",
    "\n",
    "                    if EV1[1] == EV2[1]: # Task half (1 or 2) (A1 == A1)\n",
    "                        # Forwards v.s. backwards\n",
    "\n",
    "                        if EV1[3] == EV2[3]: # Forwards v.s. backwards \n",
    "                            # \n",
    "                            pass\n",
    "\n",
    "                        else:\n",
    "                            pass\n",
    "                \n",
    "                    else :# (A1, A2)\n",
    "                        if EV1[3] == EV2[3]: #(A1F, A2F)\n",
    "                            rdm_array[EV1_idx, EV2_idx] = -1\n",
    "                        else: # (A1F, A2B)\n",
    "                            rdm_array[EV1_idx, EV2_idx] = +1\n",
    "                else: #(A, B)\n",
    "\n",
    "                    if EV1[1] == EV2[1]: # A\n",
    "\n",
    "                        if EV1[3] == EV2[3]: # (A1F, B1F)\n",
    "                            rdm_array[EV1_idx, EV2_idx] = +1/4\n",
    "                        \n",
    "                        else: # (A1F, B1B)\n",
    "                            rdm_array[EV1_idx, EV2_idx] = -1/4\n",
    "                    \n",
    "        return rdm_array\n",
    "\n",
    "\n",
    "def task_similarity_matrix(\n",
    "        configs_dict: dict,\n",
    "        model: list = \"replay\",\n",
    "        SAVE: bool = False,\n",
    "        VISUALISE: bool = False\n",
    "):\n",
    "    \"\"\"\n",
    "    Param\n",
    "        configs_dict: dict\n",
    "\n",
    "    Returns\n",
    "        model_RDM_dict: rsa.RDMs object for one model\n",
    "\n",
    "    \"\"\"\n",
    "    \n",
    "    # Get the order of the tasks from the configs dictionary\n",
    "    sorted_keys_dict = extract_and_clean.order_task_according_to_rewards(configs_dict)\n",
    "\n",
    "    # list of conditions\n",
    "    EVs = list(sorted_keys_dict['1']) + list(sorted_keys_dict['2'])\n",
    "    \n",
    "    if model == \"replay\":\n",
    "        # Create the RDMs for the replay analysis\n",
    "        replay_RDM = create_matrix_replay(EVs)\n",
    "    else: \n",
    "        # There is space here to add more models with new functions\n",
    "        raise ValueError(\"Model not found.\")\n",
    "\n",
    "    # stack of RDMs for each condition. in this case, only one RDM. the \"replay\" one\n",
    "    rdm_stack = np.stack([replay_RDM])\n",
    "\n",
    "    # a dictonary containing all the model desciptors\n",
    "    model_RDM_descripter = {} \n",
    "    model_RDM_descripter['replay'] = \"Replay Model\"\n",
    "\n",
    "    # Create the RDM object\n",
    "    replay_RDM_object = RDMs_object(\n",
    "        dissimilarities = rdm_stack,\n",
    "        dissimilarity_measure = 'Arbitrary',\n",
    "        descriptors = model_RDM_descripter,\n",
    "        # pattern_descriptors =\n",
    "    )\n",
    "\n",
    "    if SAVE == True:\n",
    "        # Save the RDMs object to a pickle file\n",
    "        print(\"Saving the RDMs object\")\n",
    "        with open(f\"{DATA_DIR}/derivatives/{sub}/beh/RDMs_{RDM_VERSION}_glmbase_{REGRESSION_VERSION}/replay_RDM_object.pkl\", 'wb') as f:\n",
    "            pickle.dump(replay_RDM_object, f)\n",
    "            \n",
    "        # print(f\"{DATA_DIR}/derivatives/{sub}/beh/RDMs_{RDM_VERSION}_glmbase_{REGRESSION_VERSION}/replay_RDM_object.pkl\")\n",
    "        pass\n",
    "\n",
    "    if VISUALISE == True:\n",
    "\n",
    "        # Visualise the RDMs\n",
    "        v.plot_RDM_object(replay_RDM_object, \n",
    "                          title = list(model_RDM_descripter.values())[0],\n",
    "                          conditions = EVs,)\n",
    "\n",
    "    return replay_RDM_object\n",
    "\n",
    "replay_RDM_object = task_similarity_matrix(configs_dict, \n",
    "                       VISUALISE = True, \n",
    "                       SAVE = True)\n"
   ]
  },
  {
   "cell_type": "code",
   "execution_count": 20,
   "metadata": {},
   "outputs": [
    {
     "data": {
      "text/plain": [
       "(1, 190)"
      ]
     },
     "execution_count": 20,
     "metadata": {},
     "output_type": "execute_result"
    }
   ],
   "source": [
    "replay_RDM_object.dissimilarities.shape"
   ]
  },
  {
   "cell_type": "code",
   "execution_count": 6,
   "metadata": {},
   "outputs": [
    {
     "ename": "NameError",
     "evalue": "name 'models_sorted_into_splits' is not defined",
     "output_type": "error",
     "traceback": [
      "\u001b[0;31m---------------------------------------------------------------------------\u001b[0m",
      "\u001b[0;31mNameError\u001b[0m                                 Traceback (most recent call last)",
      "Cell \u001b[0;32mIn[6], line 12\u001b[0m\n\u001b[1;32m      1\u001b[0m \u001b[38;5;66;03m# then, in a last step, create the RDMs\u001b[39;00m\n\u001b[1;32m      2\u001b[0m \u001b[38;5;66;03m# concatenate the conditions from the two task halves (giving you 2*nCond X nVoxels matrix), \u001b[39;00m\n\u001b[1;32m      3\u001b[0m \u001b[38;5;66;03m# and calculate the correlations between all rows of this matrix. This gives you a symmetric matrix \u001b[39;00m\n\u001b[0;32m   (...)\u001b[0m\n\u001b[1;32m     10\u001b[0m \n\u001b[1;32m     11\u001b[0m \u001b[38;5;66;03m# flip the keys and values of the dictionary.\u001b[39;00m\n\u001b[0;32m---> 12\u001b[0m models_sorted_into_splits \u001b[38;5;241m=\u001b[39m utils\u001b[38;5;241m.\u001b[39mreverse_nested_dict(\u001b[43mmodels_sorted_into_splits\u001b[49m)\n\u001b[1;32m     14\u001b[0m \u001b[38;5;66;03m# FROM THE NEURAL MODELS, CREATE THE RDMs\u001b[39;00m\n\u001b[1;32m     15\u001b[0m \n\u001b[1;32m     16\u001b[0m \u001b[38;5;66;03m# for each split (half)\u001b[39;00m\n\u001b[1;32m     17\u001b[0m \u001b[38;5;28;01mfor\u001b[39;00m split \u001b[38;5;129;01min\u001b[39;00m models_sorted_into_splits:\n",
      "\u001b[0;31mNameError\u001b[0m: name 'models_sorted_into_splits' is not defined"
     ]
    }
   ],
   "source": [
    "\n",
    "# then, in a last step, create the RDMs\n",
    "# concatenate the conditions from the two task halves (giving you 2*nCond X nVoxels matrix), \n",
    "# and calculate the correlations between all rows of this matrix. This gives you a symmetric matrix \n",
    "# (of size 2*nCond X 2*nCond), where the (non-symmetric) nCond X nCond bottom left square (or top right, \n",
    "# doesn't matter because it's symmetric) (i.e. a quarter of the original matrix) has all the correlations \n",
    "# across THs. \n",
    "\n",
    "# NOTE: the formatting for these dictationaries are the opposite nesting of what is expected from the script.\n",
    "# reverse the nesting of the dictionaries.\n",
    "\n",
    "# flip the keys and values of the dictionary.\n",
    "models_sorted_into_splits = utils.reverse_nested_dict(models_sorted_into_splits)\n",
    "\n",
    "# FROM THE NEURAL MODELS, CREATE THE RDMs\n",
    "\n",
    "# for each split (half)\n",
    "for split in models_sorted_into_splits:\n",
    "    RSM_dict_betw_TH = {}\n",
    "    # for each model in the split (half), create the RSM and place it in a dictionary\n",
    "    for model in models_sorted_into_splits[split]:\n",
    "        RSM_dict_betw_TH[model] = RDMs.construct_within_task_RSM(\n",
    "            # The matrix being used is the concatenation of the models between both task halves\n",
    "            neuron_activation_matrix = np.concatenate(\n",
    "                # First half of task (as a vector for each EV)\n",
    "                (models_sorted_into_splits['1'][model],\n",
    "                # Second half of task\n",
    "                    models_sorted_into_splits['2'][model]),\n",
    "                # the axis along which the concatenation is done\n",
    "                1), \n",
    "            SIMILARITY_MEASURE = RDM_SIMILARITY_MEASURE,\n",
    "            plotting    = True, \n",
    "            titlestring = model,\n",
    "            neural_model = False)\n",
    "\n",
    "        \n",
    "# correct the RSM for dealing with \n",
    "corrected_RSM_dict = analyse_MRI_behav.auto_corr_RSM_dict(RSM_dict_betw_TH)\n",
    "\n",
    "\n",
    "# just for me. what happens if I add the ['reward_location', 'one_future_rew_loc' ,'two_future_rew_loc', 'three_future_rew_loc']?\n",
    "# addition_model = corrected_RSM_dict['reward_location'] + corrected_RSM_dict['one_future_rew_loc'] + corrected_RSM_dict['two_future_rew_loc'] + corrected_RSM_dict['three_future_rew_loc'] \n"
   ]
  },
  {
   "cell_type": "markdown",
   "metadata": {},
   "source": [
    "## For your own visiualisation and saving"
   ]
  },
  {
   "cell_type": "code",
   "execution_count": null,
   "metadata": {},
   "outputs": [],
   "source": [
    "\n",
    "# Plot the RDMs\n",
    "if FMRI_PLOTTING == True:\n",
    "    # create directory for saving the RDM images\n",
    "    if not os.path.exists(RDM_dir):\n",
    "        os.makedirs(RDM_dir)\n",
    "\n",
    "    # plot the RDMs from the RSM dictionary\n",
    "    RDMs.plot_RDMs(\n",
    "        RDM_dict = corrected_RSM_dict, \n",
    "        save_dir = RDM_dir, \n",
    "        string_for_ticks = sorted_keys_dict['1'])\n",
    "\n",
    "# Save the RDMs\n",
    "if FMRI_SAVE == True: \n",
    "    # then save these matrices.\n",
    "    if not os.path.exists(RDM_dir):\n",
    "        os.makedirs(RDM_dir)\n",
    "    for RDM in corrected_RSM_dict:\n",
    "        np.save(os.path.join(RDM_dir, f\"RSM_{RDM}_{sub}_fmri_both_halves\"), corrected_RSM_dict[RDM])\n",
    "\n",
    "    # also save the regression files\n",
    "    for model in models_sorted_into_splits['1']:\n",
    "        np.save(os.path.join(RDM_dir, f\"data{model}_{sub}_fmri_both_halves\"), np.concatenate(\n",
    "            (models_sorted_into_splits['1'][model], \n",
    "                models_sorted_into_splits['2'][model]),\n",
    "                1))\n",
    "    \n",
    "    # and lastly, save the order in which I put the RDMs.\n",
    "\n",
    "    # save the sorted keys and the regressors.\n",
    "    with open(f\"{RDM_dir}/sorted_keys-model_RDMs.pkl\", 'wb') as file:\n",
    "        pickle.dump(sorted_keys_dict, file)\n",
    "    \n",
    "    with open(f\"{RDM_dir}/sorted_regs.pkl\", 'wb') as file:\n",
    "        pickle.dump(reg_list, file)\n",
    "            \n",
    "\n",
    "\n"
   ]
  }
 ],
 "metadata": {
  "kernelspec": {
   "display_name": "rsa",
   "language": "python",
   "name": "python3"
  },
  "language_info": {
   "codemirror_mode": {
    "name": "ipython",
    "version": 3
   },
   "file_extension": ".py",
   "mimetype": "text/x-python",
   "name": "python",
   "nbconvert_exporter": "python",
   "pygments_lexer": "ipython3",
   "version": "3.11.9"
  }
 },
 "nbformat": 4,
 "nbformat_minor": 2
}

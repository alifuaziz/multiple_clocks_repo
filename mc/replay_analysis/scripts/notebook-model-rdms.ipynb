{
 "cells": [
  {
   "cell_type": "code",
   "execution_count": 61,
   "metadata": {},
   "outputs": [
    {
     "name": "stdout",
     "output_type": "stream",
     "text": [
      "The autoreload extension is already loaded. To reload it, use:\n",
      "  %reload_ext autoreload\n"
     ]
    }
   ],
   "source": [
    "%load_ext autoreload\n",
    "%autoreload 2\n",
    "import mc.replay_analysis.functions.model_rdms as model_rdms\n",
    "import mc.replay_analysis.functions.data_rdms as data_rdms\n",
    "from mc.analyse.searchlight import get_volume_searchlight\n",
    "import pandas as pd\n",
    "import numpy as np\n",
    "import matplotlib.pyplot as plt\n",
    "import seaborn as sns\n",
    "sns.set_style('dark')\n",
    "# from rsatoolbox.util.searchlight import get_volume_searchlight\n",
    "from nilearn.image import load_img"
   ]
  },
  {
   "cell_type": "code",
   "execution_count": 62,
   "metadata": {},
   "outputs": [],
   "source": [
    "SUB = \"sub-02\"\n",
    "SUBJECT_DIRECTORY = '/Users/student/PycharmProjects/data/derivatives/' + SUB + '/'\n",
    "EVS_TYPE = 'instruction_period'\n",
    "TASK_HALVES = ['1', '2']\n",
    "RDM_VERSION = '01'"
   ]
  },
  {
   "cell_type": "code",
   "execution_count": 63,
   "metadata": {},
   "outputs": [],
   "source": [
    "# Order of conditions in the RDMs\n",
    "conditions = [\n",
    "        'A1_f', 'A1_b',\n",
    "        'B1_f', 'B1_b',\n",
    "        'C1_f', 'C1_b',\n",
    "        'D1_f', 'D1_b',\n",
    "        'E1_f', 'E1_b',\n",
    "        'A2_f', 'A2_b',\n",
    "        'B2_f', 'B2_b',\n",
    "        'C2_f', 'C2_b',\n",
    "        'D2_f', 'D2_b',\n",
    "        'E2_f', 'E2_b',    \n",
    "    ]\n"
   ]
  },
  {
   "cell_type": "code",
   "execution_count": 111,
   "metadata": {},
   "outputs": [
    {
     "data": {
      "image/png": "[encoded data removed]",
      "text/plain": [
       "<Figure size 640x480 with 2 Axes>"
      ]
     },
     "metadata": {},
     "output_type": "display_data"
    }
   ],
   "source": [
    "conditions = data_rdms.get_standard_order()\n",
    "TYPE = 'replay_nan_off_diag'\n",
    "# TYPE = 'replay_zero_off_diag'\n",
    "# TYPE = 'replay'\n",
    "TYPE = \"difficulty\"\n",
    "model_rdms_dict = model_rdms.get_model_rdms(conditions, TYPE)\n",
    "\n",
    "# df = data_rdms.get_data_rdms_tri(model_rdms_dict)\n",
    "\n",
    "# df\n",
    "plt.title(TYPE)\n",
    "plt.imshow(model_rdms_dict[TYPE])\n",
    "plt.xticks(range(len(model_rdms_dict[TYPE].columns)), model_rdms_dict[TYPE].columns, rotation=90)\n",
    "plt.yticks(range(len(model_rdms_dict[TYPE].index)), model_rdms_dict[TYPE].index)\n",
    "plt.colorbar()\n",
    "plt.show()\n"
   ]
  },
  {
   "cell_type": "code",
   "execution_count": 100,
   "metadata": {},
   "outputs": [
    {
     "name": "stdout",
     "output_type": "stream",
     "text": [
      "['A2_f vs A2_f' 'A2_f vs A2_b' 'A2_f vs B2_f' 'A2_f vs B2_b'\n",
      " 'A2_f vs C2_f' 'A2_f vs C2_b' 'A2_f vs D2_f' 'A2_f vs D2_b'\n",
      " 'A2_f vs E2_f' 'A2_f vs E2_b' 'A2_b vs A2_f' 'A2_b vs A2_b'\n",
      " 'A2_b vs B2_f' 'A2_b vs B2_b' 'A2_b vs C2_f' 'A2_b vs C2_b'\n",
      " 'A2_b vs D2_f' 'A2_b vs D2_b' 'A2_b vs E2_f' 'A2_b vs E2_b'\n",
      " 'B2_f vs A2_f' 'B2_f vs A2_b' 'B2_f vs B2_f' 'B2_f vs B2_b'\n",
      " 'B2_f vs C2_f' 'B2_f vs C2_b' 'B2_f vs D2_f' 'B2_f vs D2_b'\n",
      " 'B2_f vs E2_f' 'B2_f vs E2_b' 'B2_b vs A2_f' 'B2_b vs A2_b'\n",
      " 'B2_b vs B2_f' 'B2_b vs B2_b' 'B2_b vs C2_f' 'B2_b vs C2_b'\n",
      " 'B2_b vs D2_f' 'B2_b vs D2_b' 'B2_b vs E2_f' 'B2_b vs E2_b'\n",
      " 'C2_f vs A2_f' 'C2_f vs A2_b' 'C2_f vs B2_f' 'C2_f vs B2_b'\n",
      " 'C2_f vs C2_f' 'C2_f vs C2_b' 'C2_f vs D2_f' 'C2_f vs D2_b'\n",
      " 'C2_f vs E2_f' 'C2_f vs E2_b' 'C2_b vs A2_f' 'C2_b vs A2_b'\n",
      " 'C2_b vs B2_f' 'C2_b vs B2_b' 'C2_b vs C2_f' 'C2_b vs C2_b'\n",
      " 'C2_b vs D2_f' 'C2_b vs D2_b' 'C2_b vs E2_f' 'C2_b vs E2_b'\n",
      " 'D2_f vs A2_f' 'D2_f vs A2_b' 'D2_f vs B2_f' 'D2_f vs B2_b'\n",
      " 'D2_f vs C2_f' 'D2_f vs C2_b' 'D2_f vs D2_f' 'D2_f vs D2_b'\n",
      " 'D2_f vs E2_f' 'D2_f vs E2_b' 'D2_b vs A2_f' 'D2_b vs A2_b'\n",
      " 'D2_b vs B2_f' 'D2_b vs B2_b' 'D2_b vs C2_f' 'D2_b vs C2_b'\n",
      " 'D2_b vs D2_f' 'D2_b vs D2_b' 'D2_b vs E2_f' 'D2_b vs E2_b'\n",
      " 'E2_f vs A2_f' 'E2_f vs A2_b' 'E2_f vs B2_f' 'E2_f vs B2_b'\n",
      " 'E2_f vs C2_f' 'E2_f vs C2_b' 'E2_f vs D2_f' 'E2_f vs D2_b'\n",
      " 'E2_f vs E2_f' 'E2_f vs E2_b' 'E2_b vs A2_f' 'E2_b vs A2_b'\n",
      " 'E2_b vs B2_f' 'E2_b vs B2_b' 'E2_b vs C2_f' 'E2_b vs C2_b'\n",
      " 'E2_b vs D2_f' 'E2_b vs D2_b' 'E2_b vs E2_f' 'E2_b vs E2_b']\n"
     ]
    },
    {
     "name": "stderr",
     "output_type": "stream",
     "text": [
      "Converting to vector form:   0%|          | 0/1 [00:00<?, ?it/s]\n"
     ]
    },
    {
     "ename": "ValueError",
     "evalue": "Shape of passed values is (20, 1), indices imply (20, 100)",
     "output_type": "error",
     "traceback": [
      "\u001b[0;31m---------------------------------------------------------------------------\u001b[0m",
      "\u001b[0;31mValueError\u001b[0m                                Traceback (most recent call last)",
      "Cell \u001b[0;32mIn[100], line 1\u001b[0m\n\u001b[0;32m----> 1\u001b[0m model_rdms_dict \u001b[38;5;241m=\u001b[39m \u001b[43mdata_rdms\u001b[49m\u001b[38;5;241;43m.\u001b[39;49m\u001b[43mget_data_rdms_vectors\u001b[49m\u001b[43m(\u001b[49m\u001b[43mmodel_rdms_dict\u001b[49m\u001b[43m)\u001b[49m\n\u001b[1;32m      3\u001b[0m model_rdms_dict[TYPE]\u001b[38;5;241m.\u001b[39mcolumns\n",
      "File \u001b[0;32m~/PycharmProjects/Music-Box-fMRI/multiple_clocks_repo/mc/replay_analysis/functions/data_rdms.py:419\u001b[0m, in \u001b[0;36mget_data_rdms_vectors\u001b[0;34m(data_rdms_dict)\u001b[0m\n\u001b[1;32m    417\u001b[0m df \u001b[38;5;241m=\u001b[39m df[\u001b[38;5;241m~\u001b[39mnp\u001b[38;5;241m.\u001b[39misnan(df)]\n\u001b[1;32m    418\u001b[0m \u001b[38;5;66;03m# Add the array to the dictionary\u001b[39;00m\n\u001b[0;32m--> 419\u001b[0m df_dict[center] \u001b[38;5;241m=\u001b[39m \u001b[43mpd\u001b[49m\u001b[38;5;241;43m.\u001b[39;49m\u001b[43mDataFrame\u001b[49m\u001b[43m(\u001b[49m\u001b[43mdf\u001b[49m\u001b[43m,\u001b[49m\n\u001b[1;32m    420\u001b[0m \u001b[43m                                \u001b[49m\u001b[43mcolumns\u001b[49m\u001b[38;5;241;43m=\u001b[39;49m\u001b[43mlabels\u001b[49m\n\u001b[1;32m    421\u001b[0m \u001b[43m                                \u001b[49m\u001b[43m)\u001b[49m\n\u001b[1;32m    422\u001b[0m \u001b[38;5;66;03m# Update the progress bar\u001b[39;00m\n\u001b[1;32m    423\u001b[0m pbar\u001b[38;5;241m.\u001b[39mupdate(\u001b[38;5;241m1\u001b[39m)\n",
      "File \u001b[0;32m~/anaconda3/envs/rsa/lib/python3.11/site-packages/pandas/core/frame.py:816\u001b[0m, in \u001b[0;36mDataFrame.__init__\u001b[0;34m(self, data, index, columns, dtype, copy)\u001b[0m\n\u001b[1;32m    805\u001b[0m         mgr \u001b[38;5;241m=\u001b[39m dict_to_mgr(\n\u001b[1;32m    806\u001b[0m             \u001b[38;5;66;03m# error: Item \"ndarray\" of \"Union[ndarray, Series, Index]\" has no\u001b[39;00m\n\u001b[1;32m    807\u001b[0m             \u001b[38;5;66;03m# attribute \"name\"\u001b[39;00m\n\u001b[0;32m   (...)\u001b[0m\n\u001b[1;32m    813\u001b[0m             copy\u001b[38;5;241m=\u001b[39m_copy,\n\u001b[1;32m    814\u001b[0m         )\n\u001b[1;32m    815\u001b[0m     \u001b[38;5;28;01melse\u001b[39;00m:\n\u001b[0;32m--> 816\u001b[0m         mgr \u001b[38;5;241m=\u001b[39m \u001b[43mndarray_to_mgr\u001b[49m\u001b[43m(\u001b[49m\n\u001b[1;32m    817\u001b[0m \u001b[43m            \u001b[49m\u001b[43mdata\u001b[49m\u001b[43m,\u001b[49m\n\u001b[1;32m    818\u001b[0m \u001b[43m            \u001b[49m\u001b[43mindex\u001b[49m\u001b[43m,\u001b[49m\n\u001b[1;32m    819\u001b[0m \u001b[43m            \u001b[49m\u001b[43mcolumns\u001b[49m\u001b[43m,\u001b[49m\n\u001b[1;32m    820\u001b[0m \u001b[43m            \u001b[49m\u001b[43mdtype\u001b[49m\u001b[38;5;241;43m=\u001b[39;49m\u001b[43mdtype\u001b[49m\u001b[43m,\u001b[49m\n\u001b[1;32m    821\u001b[0m \u001b[43m            \u001b[49m\u001b[43mcopy\u001b[49m\u001b[38;5;241;43m=\u001b[39;49m\u001b[43mcopy\u001b[49m\u001b[43m,\u001b[49m\n\u001b[1;32m    822\u001b[0m \u001b[43m            \u001b[49m\u001b[43mtyp\u001b[49m\u001b[38;5;241;43m=\u001b[39;49m\u001b[43mmanager\u001b[49m\u001b[43m,\u001b[49m\n\u001b[1;32m    823\u001b[0m \u001b[43m        \u001b[49m\u001b[43m)\u001b[49m\n\u001b[1;32m    825\u001b[0m \u001b[38;5;66;03m# For data is list-like, or Iterable (will consume into list)\u001b[39;00m\n\u001b[1;32m    826\u001b[0m \u001b[38;5;28;01melif\u001b[39;00m is_list_like(data):\n",
      "File \u001b[0;32m~/anaconda3/envs/rsa/lib/python3.11/site-packages/pandas/core/internals/construction.py:336\u001b[0m, in \u001b[0;36mndarray_to_mgr\u001b[0;34m(values, index, columns, dtype, copy, typ)\u001b[0m\n\u001b[1;32m    331\u001b[0m \u001b[38;5;66;03m# _prep_ndarraylike ensures that values.ndim == 2 at this point\u001b[39;00m\n\u001b[1;32m    332\u001b[0m index, columns \u001b[38;5;241m=\u001b[39m _get_axes(\n\u001b[1;32m    333\u001b[0m     values\u001b[38;5;241m.\u001b[39mshape[\u001b[38;5;241m0\u001b[39m], values\u001b[38;5;241m.\u001b[39mshape[\u001b[38;5;241m1\u001b[39m], index\u001b[38;5;241m=\u001b[39mindex, columns\u001b[38;5;241m=\u001b[39mcolumns\n\u001b[1;32m    334\u001b[0m )\n\u001b[0;32m--> 336\u001b[0m \u001b[43m_check_values_indices_shape_match\u001b[49m\u001b[43m(\u001b[49m\u001b[43mvalues\u001b[49m\u001b[43m,\u001b[49m\u001b[43m \u001b[49m\u001b[43mindex\u001b[49m\u001b[43m,\u001b[49m\u001b[43m \u001b[49m\u001b[43mcolumns\u001b[49m\u001b[43m)\u001b[49m\n\u001b[1;32m    338\u001b[0m \u001b[38;5;28;01mif\u001b[39;00m typ \u001b[38;5;241m==\u001b[39m \u001b[38;5;124m\"\u001b[39m\u001b[38;5;124marray\u001b[39m\u001b[38;5;124m\"\u001b[39m:\n\u001b[1;32m    339\u001b[0m     \u001b[38;5;28;01mif\u001b[39;00m \u001b[38;5;28missubclass\u001b[39m(values\u001b[38;5;241m.\u001b[39mdtype\u001b[38;5;241m.\u001b[39mtype, \u001b[38;5;28mstr\u001b[39m):\n",
      "File \u001b[0;32m~/anaconda3/envs/rsa/lib/python3.11/site-packages/pandas/core/internals/construction.py:420\u001b[0m, in \u001b[0;36m_check_values_indices_shape_match\u001b[0;34m(values, index, columns)\u001b[0m\n\u001b[1;32m    418\u001b[0m passed \u001b[38;5;241m=\u001b[39m values\u001b[38;5;241m.\u001b[39mshape\n\u001b[1;32m    419\u001b[0m implied \u001b[38;5;241m=\u001b[39m (\u001b[38;5;28mlen\u001b[39m(index), \u001b[38;5;28mlen\u001b[39m(columns))\n\u001b[0;32m--> 420\u001b[0m \u001b[38;5;28;01mraise\u001b[39;00m \u001b[38;5;167;01mValueError\u001b[39;00m(\u001b[38;5;124mf\u001b[39m\u001b[38;5;124m\"\u001b[39m\u001b[38;5;124mShape of passed values is \u001b[39m\u001b[38;5;132;01m{\u001b[39;00mpassed\u001b[38;5;132;01m}\u001b[39;00m\u001b[38;5;124m, indices imply \u001b[39m\u001b[38;5;132;01m{\u001b[39;00mimplied\u001b[38;5;132;01m}\u001b[39;00m\u001b[38;5;124m\"\u001b[39m)\n",
      "\u001b[0;31mValueError\u001b[0m: Shape of passed values is (20, 1), indices imply (20, 100)"
     ]
    }
   ],
   "source": [
    "# model_rdms_dict = data_rdms.get_data_rdms_vectors(model_rdms_dict)\n",
    "\n",
    "model_rdms_dict[TYPE].columns"
   ]
  },
  {
   "cell_type": "code",
   "execution_count": 110,
   "metadata": {},
   "outputs": [
    {
     "data": {
      "text/plain": [
       "array([['A2_f vs A2_f', None, None, None, None, None, None, None, None,\n",
       "        'A2_f vs E2_b'],\n",
       "       ['A2_b vs A2_f', None, None, None, None, None, None, None, None,\n",
       "        'A2_b vs E2_b'],\n",
       "       ['B2_f vs A2_f', None, None, None, None, None, None, None, None,\n",
       "        'B2_f vs E2_b'],\n",
       "       ['B2_b vs A2_f', None, None, None, None, None, None, None, None,\n",
       "        'B2_b vs E2_b'],\n",
       "       ['C2_f vs A2_f', None, None, None, None, None, None, None, None,\n",
       "        'C2_f vs E2_b'],\n",
       "       ['C2_b vs A2_f', None, None, None, None, None, None, None, None,\n",
       "        'C2_b vs E2_b'],\n",
       "       ['D2_f vs A2_f', None, None, None, None, None, None, None, None,\n",
       "        'D2_f vs E2_b'],\n",
       "       ['D2_b vs A2_f', None, None, None, None, None, None, None, None,\n",
       "        'D2_b vs E2_b'],\n",
       "       ['E2_f vs A2_f', None, None, None, None, None, None, None, None,\n",
       "        'E2_f vs E2_b'],\n",
       "       ['E2_b vs A2_f', None, None, None, None, None, None, None, None,\n",
       "        'E2_b vs E2_b']], dtype=object)"
      ]
     },
     "execution_count": 110,
     "metadata": {},
     "output_type": "execute_result"
    }
   ],
   "source": [
    "labels = data_rdms.get_data_rdms_vector_labels(\n",
    "    model_rdms_dict\n",
    ")\n",
    "labels"
   ]
  }
 ],
 "metadata": {
  "kernelspec": {
   "display_name": "rsa",
   "language": "python",
   "name": "python3"
  },
  "language_info": {
   "codemirror_mode": {
    "name": "ipython",
    "version": 3
   },
   "file_extension": ".py",
   "mimetype": "text/x-python",
   "name": "python",
   "nbconvert_exporter": "python",
   "pygments_lexer": "ipython3",
   "version": "3.11.9"
  }
 },
 "nbformat": 4,
 "nbformat_minor": 2
}

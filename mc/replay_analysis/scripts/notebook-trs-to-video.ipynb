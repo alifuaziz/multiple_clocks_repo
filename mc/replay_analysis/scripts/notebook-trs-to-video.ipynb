{
 "cells": [
  {
   "cell_type": "markdown",
   "metadata": {},
   "source": [
    "# Steps for this analyis: \n",
    "1. For each of the TRs for a subject, load in the {beta, t, p} maps \n",
    "    - If there is no data for a TR, insert an array of zeros to place hold the data\n",
    "2. stack the 3d arrays into a 4d array\n",
    "3. save the 4d array to the correct location in the directory"
   ]
  },
  {
   "cell_type": "code",
   "execution_count": 52,
   "metadata": {},
   "outputs": [
    {
     "data": {
      "text/plain": [
       "[PosixPath('/home/fs0/chx061/scratch/data/derivatives/sub-01/analysis/instruction_period_sliding_window/TR0'),\n",
       " PosixPath('/home/fs0/chx061/scratch/data/derivatives/sub-01/analysis/instruction_period_sliding_window/TR1'),\n",
       " PosixPath('/home/fs0/chx061/scratch/data/derivatives/sub-01/analysis/instruction_period_sliding_window/TR2'),\n",
       " PosixPath('/home/fs0/chx061/scratch/data/derivatives/sub-01/analysis/instruction_period_sliding_window/TR3'),\n",
       " PosixPath('/home/fs0/chx061/scratch/data/derivatives/sub-01/analysis/instruction_period_sliding_window/TR4'),\n",
       " PosixPath('/home/fs0/chx061/scratch/data/derivatives/sub-01/analysis/instruction_period_sliding_window/TR5'),\n",
       " PosixPath('/home/fs0/chx061/scratch/data/derivatives/sub-01/analysis/instruction_period_sliding_window/TR6'),\n",
       " PosixPath('/home/fs0/chx061/scratch/data/derivatives/sub-01/analysis/instruction_period_sliding_window/TR7'),\n",
       " PosixPath('/home/fs0/chx061/scratch/data/derivatives/sub-01/analysis/instruction_period_sliding_window/TR8'),\n",
       " PosixPath('/home/fs0/chx061/scratch/data/derivatives/sub-01/analysis/instruction_period_sliding_window/TR9')]"
      ]
     },
     "execution_count": 52,
     "metadata": {},
     "output_type": "execute_result"
    }
   ],
   "source": [
    "# imports \n",
    "from pathlib import Path\n",
    "import nibabel as nib\n",
    "import numpy as np\n",
    "\n",
    "# Data folder\n",
    "DATA_FOLDER = Path('/home/fs0/chx061/scratch/data/derivatives/')\n",
    "SUBJECT     = 'sub-01'\n",
    "EVS_TYPE    = 'instruction_period_sliding_window'\n",
    "TR          = '0'\n",
    "RDM         = 'replay'\n",
    "\n",
    "# Select the TR directory\n",
    "TR_DIR = DATA_FOLDER / SUBJECT / 'analysis' / EVS_TYPE\n",
    "\n",
    "# Get the list of folders\n",
    "folders = [f for f in TR_DIR.iterdir() if 'TR' in f.name and f.is_dir()]\n",
    "folders.sort()\n",
    "folders"
   ]
  },
  {
   "cell_type": "code",
   "execution_count": 53,
   "metadata": {},
   "outputs": [
    {
     "name": "stdout",
     "output_type": "stream",
     "text": [
      "Found None at index 5, replacing with zeros\n",
      "Found None at index 7, replacing with zeros\n"
     ]
    }
   ],
   "source": [
    "\n",
    "# /home/fs0/chx061/scratch/data/derivatives/sub-01/analysis/instruction_period_sliding_window/TR0/replay/results-standard-space\n",
    "# For each folder, get the beta maps from standard space\n",
    "MAP_TYPE = 't'\n",
    "\n",
    "video = {}\n",
    "for folder in folders:\n",
    "    # print(folder)\n",
    "    results_std = folder / RDM / 'results-standard-space' / F'{MAP_TYPE}_values_std.nii.gz'\n",
    "    # print(results_std)\n",
    "    if not results_std.exists():\n",
    "        # print('No results-std-space found, adding None to dictionary')\n",
    "        video[folder] = None\n",
    "        continue\n",
    "    else:\n",
    "        # print('Found results-std-space, adding to dictionary')\n",
    "        map = nib.load(results_std)\n",
    "        video[folder] = map.get_fdata()\n",
    "\n",
    "array_shape = video[folders[0]].shape\n",
    "\n",
    "# Replace the None with the previous value\n",
    "for path_idx, path in enumerate(video.keys()):\n",
    "    if video[path] is None:\n",
    "        print(f'Found None at index {path_idx}, replacing with zeros')\n",
    "        video[path] = np.zeros(array_shape)"
   ]
  },
  {
   "cell_type": "code",
   "execution_count": 54,
   "metadata": {},
   "outputs": [],
   "source": [
    "# Stack the 3D arrays\n",
    "stack = np.stack(list(video.values()), axis=3)\n",
    "\n",
    "# Create the correct directiory to save the stack\n",
    "stack_dir = DATA_FOLDER / SUBJECT / 'analysis'  / EVS_TYPE / 'video_stack' / RDM\n",
    "stack_dir.mkdir(parents=True, exist_ok=True)\n",
    "stack_dir = DATA_FOLDER / SUBJECT / 'analysis'  / EVS_TYPE / 'video_stack' / RDM / F'{MAP_TYPE}_values_std.nii.gz'\n",
    "\n",
    "# Save the stack\n",
    "stack_img = nib.Nifti1Image(stack, map.affine)\n",
    "nib.save(stack_img, stack_dir)\n"
   ]
  }
 ],
 "metadata": {
  "kernelspec": {
   "display_name": "rsa",
   "language": "python",
   "name": "python3"
  },
  "language_info": {
   "codemirror_mode": {
    "name": "ipython",
    "version": 3
   },
   "file_extension": ".py",
   "mimetype": "text/x-python",
   "name": "python",
   "nbconvert_exporter": "python",
   "pygments_lexer": "ipython3",
   "version": "3.12.3"
  }
 },
 "nbformat": 4,
 "nbformat_minor": 2
}

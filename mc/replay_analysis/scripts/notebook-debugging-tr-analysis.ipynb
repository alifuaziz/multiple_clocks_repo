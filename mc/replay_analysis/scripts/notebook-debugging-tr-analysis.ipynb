{
 "cells": [
  {
   "cell_type": "code",
   "execution_count": 1,
   "metadata": {},
   "outputs": [],
   "source": [
    "# Check if the loaded pickle files are the same for the different TR and different stages of the analysis\n",
    "import pickle\n",
    "import numpy as np\n",
    "import nibabel as nib"
   ]
  },
  {
   "cell_type": "markdown",
   "metadata": {},
   "source": [
    "data_searchlight.pkl\n",
    "- for each centre, there is a volume of data points (the neighbours) that surround it\n",
    "vol_searchlight.pkl\n",
    "- \n",
    "\n",
    "searchlight_data_rdms.pkl\n",
    "- For each centre, there is an RDM matrix of size 10x10. (100 values each one)\n",
    "searchlight_data_rdms_nan_offdiag.pkl\n",
    "- for each centre, there is an 20 long vector of the rdm matrix\n"
   ]
  },
  {
   "cell_type": "code",
   "execution_count": 4,
   "metadata": {},
   "outputs": [
    {
     "data": {
      "text/plain": [
       "(48, 172130)"
      ]
     },
     "execution_count": 4,
     "metadata": {},
     "output_type": "execute_result"
    }
   ],
   "source": [
    "# \n",
    "TR0_DIR = '/home/fs0/chx061/scratch/data/derivatives/sub-01/analysis/instruction_period_sliding_window/TR2/preprocessing/'\n",
    "TR1_DIR = '/home/fs0/chx061/scratch/data/derivatives/sub-01/analysis/instruction_period_sliding_window/TR1/preprocessing/'\n",
    "\n",
    "file_name = 'searchlight_data_rdms.pkl'                        # centre and nieghbours  # these should be different between conditions since data is different\n",
    "# file_name = 'data_searchlight_df.pkl'                          # centre and nieghbours these should be differnet cos\n",
    "# file_name = 'vol_searchlight_df.pkl'                           # inidicse shjould be the same since the indicies of the serachlights are the same \n",
    "# file_name = 'searchlight_data_rdms_nan_off_diag.pkl'           # these should be different between conditions\n",
    "# Load the pickle files\n",
    "TR0 = pickle.load(open(TR0_DIR + file_name, 'rb'))\n",
    "TR1 = pickle.load(open(TR0_DIR + file_name, 'rb'))\n",
    "\n",
    "def check_data(data1, data2):\n",
    "    \"\"\"\n",
    "    Returns the number of keys that are the same and different between two dictionaries\n",
    "    \n",
    "    Returns\n",
    "    - same: number of keys that are the same\n",
    "    - diff: number of keys that are different\"\"\"\n",
    "    same = 0\n",
    "    diff = 0\n",
    "    # Check if the data is the same\n",
    "    for key in data1.keys():\n",
    "        if not np.array_equal(data1[key], data2[key]):\n",
    "            same += 1\n",
    "            pass\n",
    "        else:\n",
    "            # print('Data is the same for key: ' )\n",
    "            diff += 1\n",
    "            pass\n",
    "    return same, diff\n",
    "\n",
    "check_data(TR0, TR1)\n"
   ]
  }
 ],
 "metadata": {
  "kernelspec": {
   "display_name": "rsa",
   "language": "python",
   "name": "python3"
  },
  "language_info": {
   "codemirror_mode": {
    "name": "ipython",
    "version": 3
   },
   "file_extension": ".py",
   "mimetype": "text/x-python",
   "name": "python",
   "nbconvert_exporter": "python",
   "pygments_lexer": "ipython3",
   "version": "3.1.-1"
  }
 },
 "nbformat": 4,
 "nbformat_minor": 2
}

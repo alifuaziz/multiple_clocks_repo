{
 "cells": [
  {
   "cell_type": "code",
   "execution_count": 1,
   "metadata": {},
   "outputs": [],
   "source": [
    "# auto-reload imports \n",
    "%load_ext autoreload\n",
    "%autoreload 2"
   ]
  },
  {
   "cell_type": "code",
   "execution_count": 3,
   "metadata": {},
   "outputs": [],
   "source": [
    "\n",
    "import mc.replay_analysis.functions.model_rdms as model_rdms\n",
    "import mc.replay_analysis.functions.data_rdms as data_rdms\n",
    "import mc.analyse.analyse_MRI_behav as analyse_MRI_behav\n",
    "from mc.analyse.searchlight import get_volume_searchlight\n",
    "import nibabel as nib\n",
    "import pandas as pd\n",
    "import numpy as np\n",
    "import matplotlib.pyplot as plt\n",
    "import seaborn as sns\n",
    "from joblib import Parallel, delayed\n",
    "from tqdm import tqdm\n",
    "sns.set_style('dark')\n",
    "# from rsatoolbox.util.searchlight import get_volume_searchlight\n",
    "from nilearn.image import load_img"
   ]
  },
  {
   "cell_type": "code",
   "execution_count": 123,
   "metadata": {},
   "outputs": [],
   "source": [
    "SUB = \"sub-02\"\n",
    "SUBJECT_DIRECTORY = '/Users/student/PycharmProjects/data/derivatives/' + SUB + '/'\n",
    "EVS_TYPE = 'instruction_period'\n",
    "TASK_HALVES = ['1', '2']\n",
    "RDM_VERSION = '01'"
   ]
  },
  {
   "cell_type": "markdown",
   "metadata": {},
   "source": [
    "## Get the EVs Dictionary \n",
    "Make sure that out conditions are labeled\n",
    "Remove the task halves. Just have a naming convention that keeps track of this. "
   ]
  },
  {
   "cell_type": "code",
   "execution_count": 124,
   "metadata": {},
   "outputs": [
    {
     "data": {
      "text/html": [
       "<div>\n",
       "<style scoped>\n",
       "    .dataframe tbody tr th:only-of-type {\n",
       "        vertical-align: middle;\n",
       "    }\n",
       "\n",
       "    .dataframe tbody tr th {\n",
       "        vertical-align: top;\n",
       "    }\n",
       "\n",
       "    .dataframe thead th {\n",
       "        text-align: right;\n",
       "    }\n",
       "</style>\n",
       "<table border=\"1\" class=\"dataframe\">\n",
       "  <thead>\n",
       "    <tr style=\"text-align: right;\">\n",
       "      <th></th>\n",
       "      <th>A1_f</th>\n",
       "      <th>A1_b</th>\n",
       "      <th>B1_f</th>\n",
       "      <th>B1_b</th>\n",
       "      <th>C1_f</th>\n",
       "      <th>C1_b</th>\n",
       "      <th>D1_f</th>\n",
       "      <th>D1_b</th>\n",
       "      <th>E1_f</th>\n",
       "      <th>E1_b</th>\n",
       "      <th>A2_f</th>\n",
       "      <th>A2_b</th>\n",
       "      <th>B2_f</th>\n",
       "      <th>B2_b</th>\n",
       "      <th>C2_f</th>\n",
       "      <th>C2_b</th>\n",
       "      <th>D2_f</th>\n",
       "      <th>D2_b</th>\n",
       "      <th>E2_f</th>\n",
       "      <th>E2_b</th>\n",
       "    </tr>\n",
       "  </thead>\n",
       "  <tbody>\n",
       "    <tr>\n",
       "      <th>0</th>\n",
       "      <td>0.0</td>\n",
       "      <td>0.0</td>\n",
       "      <td>0.0</td>\n",
       "      <td>0.0</td>\n",
       "      <td>0.0</td>\n",
       "      <td>0.0</td>\n",
       "      <td>0.0</td>\n",
       "      <td>0.0</td>\n",
       "      <td>0.0</td>\n",
       "      <td>0.0</td>\n",
       "      <td>0.0</td>\n",
       "      <td>0.0</td>\n",
       "      <td>0.0</td>\n",
       "      <td>0.0</td>\n",
       "      <td>0.0</td>\n",
       "      <td>0.0</td>\n",
       "      <td>0.0</td>\n",
       "      <td>0.0</td>\n",
       "      <td>0.0</td>\n",
       "      <td>0.0</td>\n",
       "    </tr>\n",
       "    <tr>\n",
       "      <th>1</th>\n",
       "      <td>0.0</td>\n",
       "      <td>0.0</td>\n",
       "      <td>0.0</td>\n",
       "      <td>0.0</td>\n",
       "      <td>0.0</td>\n",
       "      <td>0.0</td>\n",
       "      <td>0.0</td>\n",
       "      <td>0.0</td>\n",
       "      <td>0.0</td>\n",
       "      <td>0.0</td>\n",
       "      <td>0.0</td>\n",
       "      <td>0.0</td>\n",
       "      <td>0.0</td>\n",
       "      <td>0.0</td>\n",
       "      <td>0.0</td>\n",
       "      <td>0.0</td>\n",
       "      <td>0.0</td>\n",
       "      <td>0.0</td>\n",
       "      <td>0.0</td>\n",
       "      <td>0.0</td>\n",
       "    </tr>\n",
       "    <tr>\n",
       "      <th>2</th>\n",
       "      <td>0.0</td>\n",
       "      <td>0.0</td>\n",
       "      <td>0.0</td>\n",
       "      <td>0.0</td>\n",
       "      <td>0.0</td>\n",
       "      <td>0.0</td>\n",
       "      <td>0.0</td>\n",
       "      <td>0.0</td>\n",
       "      <td>0.0</td>\n",
       "      <td>0.0</td>\n",
       "      <td>0.0</td>\n",
       "      <td>0.0</td>\n",
       "      <td>0.0</td>\n",
       "      <td>0.0</td>\n",
       "      <td>0.0</td>\n",
       "      <td>0.0</td>\n",
       "      <td>0.0</td>\n",
       "      <td>0.0</td>\n",
       "      <td>0.0</td>\n",
       "      <td>0.0</td>\n",
       "    </tr>\n",
       "    <tr>\n",
       "      <th>3</th>\n",
       "      <td>0.0</td>\n",
       "      <td>0.0</td>\n",
       "      <td>0.0</td>\n",
       "      <td>0.0</td>\n",
       "      <td>0.0</td>\n",
       "      <td>0.0</td>\n",
       "      <td>0.0</td>\n",
       "      <td>0.0</td>\n",
       "      <td>0.0</td>\n",
       "      <td>0.0</td>\n",
       "      <td>0.0</td>\n",
       "      <td>0.0</td>\n",
       "      <td>0.0</td>\n",
       "      <td>0.0</td>\n",
       "      <td>0.0</td>\n",
       "      <td>0.0</td>\n",
       "      <td>0.0</td>\n",
       "      <td>0.0</td>\n",
       "      <td>0.0</td>\n",
       "      <td>0.0</td>\n",
       "    </tr>\n",
       "    <tr>\n",
       "      <th>4</th>\n",
       "      <td>0.0</td>\n",
       "      <td>0.0</td>\n",
       "      <td>0.0</td>\n",
       "      <td>0.0</td>\n",
       "      <td>0.0</td>\n",
       "      <td>0.0</td>\n",
       "      <td>0.0</td>\n",
       "      <td>0.0</td>\n",
       "      <td>0.0</td>\n",
       "      <td>0.0</td>\n",
       "      <td>0.0</td>\n",
       "      <td>0.0</td>\n",
       "      <td>0.0</td>\n",
       "      <td>0.0</td>\n",
       "      <td>0.0</td>\n",
       "      <td>0.0</td>\n",
       "      <td>0.0</td>\n",
       "      <td>0.0</td>\n",
       "      <td>0.0</td>\n",
       "      <td>0.0</td>\n",
       "    </tr>\n",
       "    <tr>\n",
       "      <th>...</th>\n",
       "      <td>...</td>\n",
       "      <td>...</td>\n",
       "      <td>...</td>\n",
       "      <td>...</td>\n",
       "      <td>...</td>\n",
       "      <td>...</td>\n",
       "      <td>...</td>\n",
       "      <td>...</td>\n",
       "      <td>...</td>\n",
       "      <td>...</td>\n",
       "      <td>...</td>\n",
       "      <td>...</td>\n",
       "      <td>...</td>\n",
       "      <td>...</td>\n",
       "      <td>...</td>\n",
       "      <td>...</td>\n",
       "      <td>...</td>\n",
       "      <td>...</td>\n",
       "      <td>...</td>\n",
       "      <td>...</td>\n",
       "    </tr>\n",
       "    <tr>\n",
       "      <th>746491</th>\n",
       "      <td>0.0</td>\n",
       "      <td>0.0</td>\n",
       "      <td>0.0</td>\n",
       "      <td>0.0</td>\n",
       "      <td>0.0</td>\n",
       "      <td>0.0</td>\n",
       "      <td>0.0</td>\n",
       "      <td>0.0</td>\n",
       "      <td>0.0</td>\n",
       "      <td>0.0</td>\n",
       "      <td>0.0</td>\n",
       "      <td>0.0</td>\n",
       "      <td>0.0</td>\n",
       "      <td>0.0</td>\n",
       "      <td>0.0</td>\n",
       "      <td>0.0</td>\n",
       "      <td>0.0</td>\n",
       "      <td>0.0</td>\n",
       "      <td>0.0</td>\n",
       "      <td>0.0</td>\n",
       "    </tr>\n",
       "    <tr>\n",
       "      <th>746492</th>\n",
       "      <td>0.0</td>\n",
       "      <td>0.0</td>\n",
       "      <td>0.0</td>\n",
       "      <td>0.0</td>\n",
       "      <td>0.0</td>\n",
       "      <td>0.0</td>\n",
       "      <td>0.0</td>\n",
       "      <td>0.0</td>\n",
       "      <td>0.0</td>\n",
       "      <td>0.0</td>\n",
       "      <td>0.0</td>\n",
       "      <td>0.0</td>\n",
       "      <td>0.0</td>\n",
       "      <td>0.0</td>\n",
       "      <td>0.0</td>\n",
       "      <td>0.0</td>\n",
       "      <td>0.0</td>\n",
       "      <td>0.0</td>\n",
       "      <td>0.0</td>\n",
       "      <td>0.0</td>\n",
       "    </tr>\n",
       "    <tr>\n",
       "      <th>746493</th>\n",
       "      <td>0.0</td>\n",
       "      <td>0.0</td>\n",
       "      <td>0.0</td>\n",
       "      <td>0.0</td>\n",
       "      <td>0.0</td>\n",
       "      <td>0.0</td>\n",
       "      <td>0.0</td>\n",
       "      <td>0.0</td>\n",
       "      <td>0.0</td>\n",
       "      <td>0.0</td>\n",
       "      <td>0.0</td>\n",
       "      <td>0.0</td>\n",
       "      <td>0.0</td>\n",
       "      <td>0.0</td>\n",
       "      <td>0.0</td>\n",
       "      <td>0.0</td>\n",
       "      <td>0.0</td>\n",
       "      <td>0.0</td>\n",
       "      <td>0.0</td>\n",
       "      <td>0.0</td>\n",
       "    </tr>\n",
       "    <tr>\n",
       "      <th>746494</th>\n",
       "      <td>0.0</td>\n",
       "      <td>0.0</td>\n",
       "      <td>0.0</td>\n",
       "      <td>0.0</td>\n",
       "      <td>0.0</td>\n",
       "      <td>0.0</td>\n",
       "      <td>0.0</td>\n",
       "      <td>0.0</td>\n",
       "      <td>0.0</td>\n",
       "      <td>0.0</td>\n",
       "      <td>0.0</td>\n",
       "      <td>0.0</td>\n",
       "      <td>0.0</td>\n",
       "      <td>0.0</td>\n",
       "      <td>0.0</td>\n",
       "      <td>0.0</td>\n",
       "      <td>0.0</td>\n",
       "      <td>0.0</td>\n",
       "      <td>0.0</td>\n",
       "      <td>0.0</td>\n",
       "    </tr>\n",
       "    <tr>\n",
       "      <th>746495</th>\n",
       "      <td>0.0</td>\n",
       "      <td>0.0</td>\n",
       "      <td>0.0</td>\n",
       "      <td>0.0</td>\n",
       "      <td>0.0</td>\n",
       "      <td>0.0</td>\n",
       "      <td>0.0</td>\n",
       "      <td>0.0</td>\n",
       "      <td>0.0</td>\n",
       "      <td>0.0</td>\n",
       "      <td>0.0</td>\n",
       "      <td>0.0</td>\n",
       "      <td>0.0</td>\n",
       "      <td>0.0</td>\n",
       "      <td>0.0</td>\n",
       "      <td>0.0</td>\n",
       "      <td>0.0</td>\n",
       "      <td>0.0</td>\n",
       "      <td>0.0</td>\n",
       "      <td>0.0</td>\n",
       "    </tr>\n",
       "  </tbody>\n",
       "</table>\n",
       "<p>746496 rows × 20 columns</p>\n",
       "</div>"
      ],
      "text/plain": [
       "        A1_f  A1_b  B1_f  B1_b  C1_f  C1_b  D1_f  D1_b  E1_f  E1_b  A2_f  \\\n",
       "0        0.0   0.0   0.0   0.0   0.0   0.0   0.0   0.0   0.0   0.0   0.0   \n",
       "1        0.0   0.0   0.0   0.0   0.0   0.0   0.0   0.0   0.0   0.0   0.0   \n",
       "2        0.0   0.0   0.0   0.0   0.0   0.0   0.0   0.0   0.0   0.0   0.0   \n",
       "3        0.0   0.0   0.0   0.0   0.0   0.0   0.0   0.0   0.0   0.0   0.0   \n",
       "4        0.0   0.0   0.0   0.0   0.0   0.0   0.0   0.0   0.0   0.0   0.0   \n",
       "...      ...   ...   ...   ...   ...   ...   ...   ...   ...   ...   ...   \n",
       "746491   0.0   0.0   0.0   0.0   0.0   0.0   0.0   0.0   0.0   0.0   0.0   \n",
       "746492   0.0   0.0   0.0   0.0   0.0   0.0   0.0   0.0   0.0   0.0   0.0   \n",
       "746493   0.0   0.0   0.0   0.0   0.0   0.0   0.0   0.0   0.0   0.0   0.0   \n",
       "746494   0.0   0.0   0.0   0.0   0.0   0.0   0.0   0.0   0.0   0.0   0.0   \n",
       "746495   0.0   0.0   0.0   0.0   0.0   0.0   0.0   0.0   0.0   0.0   0.0   \n",
       "\n",
       "        A2_b  B2_f  B2_b  C2_f  C2_b  D2_f  D2_b  E2_f  E2_b  \n",
       "0        0.0   0.0   0.0   0.0   0.0   0.0   0.0   0.0   0.0  \n",
       "1        0.0   0.0   0.0   0.0   0.0   0.0   0.0   0.0   0.0  \n",
       "2        0.0   0.0   0.0   0.0   0.0   0.0   0.0   0.0   0.0  \n",
       "3        0.0   0.0   0.0   0.0   0.0   0.0   0.0   0.0   0.0  \n",
       "4        0.0   0.0   0.0   0.0   0.0   0.0   0.0   0.0   0.0  \n",
       "...      ...   ...   ...   ...   ...   ...   ...   ...   ...  \n",
       "746491   0.0   0.0   0.0   0.0   0.0   0.0   0.0   0.0   0.0  \n",
       "746492   0.0   0.0   0.0   0.0   0.0   0.0   0.0   0.0   0.0  \n",
       "746493   0.0   0.0   0.0   0.0   0.0   0.0   0.0   0.0   0.0  \n",
       "746494   0.0   0.0   0.0   0.0   0.0   0.0   0.0   0.0   0.0  \n",
       "746495   0.0   0.0   0.0   0.0   0.0   0.0   0.0   0.0   0.0  \n",
       "\n",
       "[746496 rows x 20 columns]"
      ]
     },
     "execution_count": 124,
     "metadata": {},
     "output_type": "execute_result"
    }
   ],
   "source": [
    "# Create dictionary to store the data for each EV for both task halves\n",
    "# Convert the output of this to be pandas arrays\n",
    "\n",
    "EVs_both_halves_dict = {\n",
    "    '1': None,\n",
    "    '2': None\n",
    "}\n",
    "# create new dictionary to store the 2D array of EVs for both task halves\n",
    "EVs_both_halves_2d = EVs_both_halves_dict.copy()\n",
    "\n",
    "    \n",
    "EVs_path_dict = data_rdms.get_EV_path_dict(\n",
    "    subject_directory = SUBJECT_DIRECTORY,\n",
    "    EVs_type = EVS_TYPE\n",
    "    )\n",
    "\n",
    "# Load in the EVs for the instruction periods from the dictionary of paths\n",
    "EVs_data_dict = data_rdms.load_EV_data(\n",
    "    EVs_path_dict = EVs_path_dict,\n",
    "    RDM_VERSION = RDM_VERSION\n",
    ")\n",
    "\n",
    "# Unravel the values of each EV\n",
    "EVs_data_dict = data_rdms.unravel_EV_data(EVs_data_dict)\n",
    "EVs_data_dict = pd.DataFrame(EVs_data_dict)\n",
    "\n",
    "\n",
    "# get column names\n",
    "column_names = EVs_data_dict.columns.tolist()\n",
    "for idx, name in enumerate(column_names):\n",
    "    column_names[idx] = name[3:7]\n",
    "    \n",
    "\n",
    "# column_names\n",
    "EVs_data_dict.rename(columns=dict(zip(EVs_data_dict.columns.tolist(), column_names)), inplace=True)\n",
    "\n",
    "conditions = [\n",
    "        'A1_f', 'A1_b',\n",
    "        'B1_f', 'B1_b',\n",
    "        'C1_f', 'C1_b',\n",
    "        'D1_f', 'D1_b',\n",
    "        'E1_f', 'E1_b',\n",
    "        'A2_f', 'A2_b',\n",
    "        'B2_f', 'B2_b',\n",
    "        'C2_f', 'C2_b',\n",
    "        'D2_f', 'D2_b',\n",
    "        'E2_f', 'E2_b',    \n",
    "    ]\n",
    "\n",
    "# reorder the columns \n",
    "EVs_data_dict.loc[:, conditions]\n",
    "\n",
    "\n",
    "# EVs_data_dict[]"
   ]
  },
  {
   "cell_type": "markdown",
   "metadata": {},
   "source": [
    "## Get the Searchlights\n",
    "- Requires the mask file"
   ]
  },
  {
   "cell_type": "code",
   "execution_count": 172,
   "metadata": {},
   "outputs": [
    {
     "name": "stdout",
     "output_type": "stream",
     "text": [
      "(108, 108, 64)\n",
      "(108, 108, 64)\n"
     ]
    }
   ],
   "source": [
    "# Load binary mask of the brain\n",
    "mask = load_img(f\"{SUBJECT_DIRECTORY}/anat/{SUB}_T1w_noCSF_brain_mask_bin_func_01.nii.gz\")\n",
    "print(mask.shape)\n",
    "mask = mask.get_fdata()\n",
    "print(mask.shape)\n",
    "\n",
    "\n"
   ]
  },
  {
   "cell_type": "code",
   "execution_count": 173,
   "metadata": {},
   "outputs": [
    {
     "name": "stderr",
     "output_type": "stream",
     "text": [
      "Finding searchlights...: 100%|██████████| 168204/168204 [00:08<00:00, 20226.33it/s]\n"
     ]
    },
    {
     "name": "stdout",
     "output_type": "stream",
     "text": [
      "Found 166240 searchlights\n"
     ]
    },
    {
     "ename": "ValueError",
     "evalue": "cannot resize an array that references or is referenced\nby another array in this way.\nUse the np.resize function or refcheck=False",
     "output_type": "error",
     "traceback": [
      "\u001b[0;31m---------------------------------------------------------------------------\u001b[0m",
      "\u001b[0;31mValueError\u001b[0m                                Traceback (most recent call last)",
      "Cell \u001b[0;32mIn[173], line 10\u001b[0m\n\u001b[1;32m      8\u001b[0m \u001b[38;5;28;01mfor\u001b[39;00m vol \u001b[38;5;129;01min\u001b[39;00m vol_neighbors:\n\u001b[1;32m      9\u001b[0m     \u001b[38;5;28;01mif\u001b[39;00m \u001b[38;5;28mlen\u001b[39m(vol) \u001b[38;5;241m!=\u001b[39m \u001b[38;5;241m93\u001b[39m:\n\u001b[0;32m---> 10\u001b[0m         vol \u001b[38;5;241m=\u001b[39m \u001b[43mvol\u001b[49m\u001b[38;5;241;43m.\u001b[39;49m\u001b[43mresize\u001b[49m\u001b[43m(\u001b[49m\u001b[38;5;241;43m93\u001b[39;49m\u001b[43m)\u001b[49m\n\u001b[1;32m     11\u001b[0m \u001b[38;5;66;03m# # count the number of unique elements in the list\u001b[39;00m\n\u001b[1;32m     12\u001b[0m \u001b[38;5;66;03m# from collections import Counter\u001b[39;00m\n\u001b[1;32m     13\u001b[0m \u001b[38;5;66;03m# Counter(l)\u001b[39;00m\n",
      "\u001b[0;31mValueError\u001b[0m: cannot resize an array that references or is referenced\nby another array in this way.\nUse the np.resize function or refcheck=False"
     ]
    }
   ],
   "source": [
    "\n",
    "# Get list of voxel centers and their volume neighbours\n",
    "center, vol_neighbors = get_volume_searchlight(\n",
    "    mask = mask,\n",
    "    radius = 3,\n",
    "    threshold = 0.5)\n"
   ]
  },
  {
   "cell_type": "code",
   "execution_count": 174,
   "metadata": {},
   "outputs": [],
   "source": [
    "\n"
   ]
  },
  {
   "cell_type": "code",
   "execution_count": 176,
   "metadata": {},
   "outputs": [
    {
     "data": {
      "text/plain": [
       "Counter({93: 166240})"
      ]
     },
     "execution_count": 176,
     "metadata": {},
     "output_type": "execute_result"
    }
   ],
   "source": [
    "l = [len(n) for n in vol_neighbors] # check that all voxels have the same number of neighbours\n",
    "\n",
    "# count the number of unique elements in the list\n",
    "from collections import Counter\n",
    "Counter(l)\n",
    "\n",
    "\n"
   ]
  },
  {
   "cell_type": "code",
   "execution_count": 158,
   "metadata": {},
   "outputs": [],
   "source": [
    "\n",
    "# x, y, z = mask.shape\n",
    "# points = np.zeros(x * y * z)\n",
    "# for center in list_of_centers:\n",
    "#     points[center] = 1\n",
    "\n",
    "# points = points.reshape(x, y, z)\n",
    "# # save the points to a nifti file\n",
    "# img = nib.Nifti1Image(points, mask.affine)\n",
    "# nib.save(img, f\"{SUBJECT_DIRECTORY}/points.nii.gz\")"
   ]
  },
  {
   "cell_type": "code",
   "execution_count": 117,
   "metadata": {},
   "outputs": [
    {
     "data": {
      "text/plain": [
       "(162243, 162243)"
      ]
     },
     "execution_count": 117,
     "metadata": {},
     "output_type": "execute_result"
    }
   ],
   "source": [
    "# # Remove the voxels that do not have 93 neighbours\n",
    "# new_vol_neighbors = [vol_neighbors[i] for i in range(len(vol_neighbors)) if len(vol_neighbors[i]) == 93]\n",
    "# new_center = [center[i] for i in range(len(vol_neighbors)) if len(vol_neighbors[i]) == 93]\n",
    "\n",
    "# len(new_vol_neighbors), len(new_center)\n"
   ]
  },
  {
   "cell_type": "code",
   "execution_count": 177,
   "metadata": {},
   "outputs": [
    {
     "data": {
      "text/plain": [
       "162243"
      ]
     },
     "execution_count": 177,
     "metadata": {},
     "output_type": "execute_result"
    }
   ],
   "source": [
    "# # Create a data frame to store the searchliht data inside of\n",
    "# # Indicies of the searchlights\n",
    "# vol_searchlight = {}\n",
    "# for center, vol_neigh in zip(new_center, new_vol_neighbors):\n",
    "# # for center, vol_neigh in zip(centers, vol_neighbors):\n",
    "#     vol_searchlight[center] = vol_neigh\n",
    "\n",
    "# vol_searchlight = pd.DataFrame(vol_searchlight)\n",
    "\n",
    "# len(list(vol_searchlight.columns))\n"
   ]
  },
  {
   "cell_type": "code",
   "execution_count": 100,
   "metadata": {},
   "outputs": [
    {
     "ename": "AttributeError",
     "evalue": "'dict' object has no attribute 'columns'",
     "output_type": "error",
     "traceback": [
      "\u001b[0;31m---------------------------------------------------------------------------\u001b[0m",
      "\u001b[0;31mAttributeError\u001b[0m                            Traceback (most recent call last)",
      "Cell \u001b[0;32mIn[100], line 1\u001b[0m\n\u001b[0;32m----> 1\u001b[0m \u001b[38;5;28mlen\u001b[39m(\u001b[43mvol_searchlight\u001b[49m\u001b[38;5;241;43m.\u001b[39;49m\u001b[43mcolumns\u001b[49m)\n\u001b[1;32m      2\u001b[0m \u001b[38;5;66;03m# vol_searchlight\u001b[39;00m\n",
      "\u001b[0;31mAttributeError\u001b[0m: 'dict' object has no attribute 'columns'"
     ]
    }
   ],
   "source": [
    "# len(vol_searchlight.columns)\n",
    "# vol_searchlight"
   ]
  },
  {
   "cell_type": "code",
   "execution_count": 13,
   "metadata": {},
   "outputs": [],
   "source": [
    "\n",
    "# For each centre, there is a column of the df which contains the unraveled indices of the voxels in the neighbourhood\n",
    "# vol_searchlight"
   ]
  },
  {
   "cell_type": "markdown",
   "metadata": {},
   "source": [
    "## Get the EVs (subset) for each searchlight\n",
    "compute the RDM for each searchlight\n"
   ]
  },
  {
   "cell_type": "code",
   "execution_count": 4,
   "metadata": {},
   "outputs": [
    {
     "ename": "NameError",
     "evalue": "name 'vol_searchlight' is not defined",
     "output_type": "error",
     "traceback": [
      "\u001b[0;31m---------------------------------------------------------------------------\u001b[0m",
      "\u001b[0;31mNameError\u001b[0m                                 Traceback (most recent call last)",
      "Cell \u001b[0;32mIn[4], line 6\u001b[0m\n\u001b[1;32m      1\u001b[0m \u001b[38;5;66;03m# from the vol_searchlights that are generated from the masks, we can convert them to the data searchlights\u001b[39;00m\n\u001b[1;32m      2\u001b[0m \u001b[38;5;66;03m# They the table has the same formatting as the vol_searchlight table, but the values are the EVs data (bold signal for the conditions)\u001b[39;00m\n\u001b[1;32m      3\u001b[0m \u001b[38;5;66;03m# The data_searchlight table will be used to calculate the RDMs for each searchlight\u001b[39;00m\n\u001b[1;32m      5\u001b[0m data_searchlight \u001b[38;5;241m=\u001b[39m data_rdms\u001b[38;5;241m.\u001b[39mget_data_searchlight(\n\u001b[0;32m----> 6\u001b[0m     vol_searchlight \u001b[38;5;241m=\u001b[39m \u001b[43mvol_searchlight\u001b[49m,\n\u001b[1;32m      7\u001b[0m     EVs_data_dict \u001b[38;5;241m=\u001b[39m EVs_data_dict,\n\u001b[1;32m      8\u001b[0m )\n\u001b[1;32m     11\u001b[0m \u001b[38;5;28mtype\u001b[39m(data_searchlight)\n\u001b[1;32m     13\u001b[0m \u001b[38;5;66;03m# took 9 mins to run on 126363 voxels\u001b[39;00m\n",
      "\u001b[0;31mNameError\u001b[0m: name 'vol_searchlight' is not defined"
     ]
    }
   ],
   "source": [
    "# from the vol_searchlights that are generated from the masks, we can convert them to the data searchlights\n",
    "# They the table has the same formatting as the vol_searchlight table, but the values are the EVs data (bold signal for the conditions)\n",
    "# The data_searchlight table will be used to calculate the RDMs for each searchlight\n",
    "\n",
    "data_searchlight = data_rdms.get_data_searchlight(\n",
    "    vol_searchlight = vol_searchlight,\n",
    "    EVs_data_dict = EVs_data_dict,\n",
    ")\n",
    "\n",
    "\n",
    "type(data_searchlight)\n",
    "\n",
    "# took 9 mins to run on 126363 voxels"
   ]
  },
  {
   "cell_type": "code",
   "execution_count": 179,
   "metadata": {},
   "outputs": [],
   "source": [
    "\n",
    "import pickle\n",
    "# save data_searchlight to a pickle file\n",
    "with open(f\"{SUBJECT_DIRECTORY}/searchlight_data_searchlight.pkl\", 'wb') as f:\n",
    "    pickle.dump(data_searchlight, f)\n",
    "\n",
    "# # load data_searchlight from a pickle file\n",
    "# with open(f\"{SUBJECT_DIRECTORY}/searchlight_data_searchlight.pkl\", 'rb') as f:\n",
    "#     data_searchlight = pickle.load(f)\n"
   ]
  },
  {
   "cell_type": "code",
   "execution_count": 48,
   "metadata": {},
   "outputs": [
    {
     "data": {
      "text/plain": [
       "162243"
      ]
     },
     "execution_count": 48,
     "metadata": {},
     "output_type": "execute_result"
    }
   ],
   "source": [
    "len(data_searchlight.keys())    "
   ]
  },
  {
   "cell_type": "markdown",
   "metadata": {},
   "source": [
    "## Get the RDMs for each searchlight\n",
    "- Data structure here, requires that the RDMs have condition labels (that will come from the EVs condition labels)"
   ]
  },
  {
   "cell_type": "code",
   "execution_count": 197,
   "metadata": {},
   "outputs": [],
   "source": [
    "# create test df of EVs for the conditons\n",
    "# data_searchlight = dict(data_searchlight.items()[:100])\n",
    "\n",
    "# create dictionary of data rdms\n",
    "data_rdms_dict = data_rdms.get_data_rdms(\n",
    "    data_searchlight = data_searchlight,\n",
    "    SIZE = 'between_halves'\n",
    "    )\n",
    "# What should the labels be for the data RDMs in the dictionary"
   ]
  },
  {
   "cell_type": "code",
   "execution_count": 65,
   "metadata": {},
   "outputs": [
    {
     "data": {
      "text/plain": [
       "162243"
      ]
     },
     "execution_count": 65,
     "metadata": {},
     "output_type": "execute_result"
    }
   ],
   "source": [
    "# cross validation\n",
    "len(data_rdms_dict.keys())\n",
    "# data_rdms_dict[161427]"
   ]
  },
  {
   "cell_type": "code",
   "execution_count": null,
   "metadata": {},
   "outputs": [
    {
     "data": {
      "image/png": "[encoded data removed]",
      "text/plain": [
       "<Figure size 640x480 with 1 Axes>"
      ]
     },
     "metadata": {},
     "output_type": "display_data"
    }
   ],
   "source": [
    "\n",
    "# Plot the searchlight RDM\n",
    "center = 161427\n",
    "\n",
    "data_rdms.plot_rdm(\n",
    "    df = data_rdms_dict,\n",
    "    idx = center,\n",
    "    SIZE = 'between_halves'\n",
    "    )"
   ]
  },
  {
   "cell_type": "code",
   "execution_count": 181,
   "metadata": {},
   "outputs": [],
   "source": [
    "# convert to triangle vectors for RSA\n",
    "data_rdms_tri = data_rdms.get_data_rdms_tri(\n",
    "    data_rdms_dict = data_rdms_dict\n",
    "    )\n",
    "# Confirm the labels are the correct way around. Are the X labels swapped with the Y labels?\n",
    "# data_rdms_tri\n"
   ]
  },
  {
   "cell_type": "code",
   "execution_count": 88,
   "metadata": {},
   "outputs": [
    {
     "data": {
      "text/plain": [
       "162243"
      ]
     },
     "execution_count": 88,
     "metadata": {},
     "output_type": "execute_result"
    }
   ],
   "source": [
    "len(data_rdms_tri.columns)"
   ]
  },
  {
   "cell_type": "code",
   "execution_count": 25,
   "metadata": {},
   "outputs": [],
   "source": [
    "# This function is returnin the wrong labels. \n",
    "# plt.figure(figsize=(50, 50), dpi=300)\n",
    "# plt.imshow(data_rdms_tri)\n",
    "# plt.xticks(np.arange(0, len(data_rdms_tri.columns), 1), labels = data_rdms_tri.columns, rotation = 90)\n",
    "# plt.yticks(np.arange(0, len(list(data_rdms_tri.index)), 1), labels = list(data_rdms_tri.index))\n",
    "# plt.show()"
   ]
  },
  {
   "cell_type": "markdown",
   "metadata": {},
   "source": [
    "# get the model RDM\n"
   ]
  },
  {
   "cell_type": "code",
   "execution_count": 182,
   "metadata": {},
   "outputs": [
    {
     "data": {
      "image/png": "[encoded data removed]",
      "text/plain": [
       "<Figure size 640x480 with 2 Axes>"
      ]
     },
     "metadata": {},
     "output_type": "display_data"
    }
   ],
   "source": [
    "conditions = [\n",
    "        'A1_f', 'A1_b',\n",
    "        'B1_f', 'B1_b',\n",
    "        'C1_f', 'C1_b',\n",
    "        'D1_f', 'D1_b',\n",
    "        'E1_f', 'E1_b',\n",
    "        'A2_f', 'A2_b',\n",
    "        'B2_f', 'B2_b',\n",
    "        'C2_f', 'C2_b',\n",
    "        'D2_f', 'D2_b',\n",
    "        'E2_f', 'E2_b',    \n",
    "    ]\n",
    "\n",
    "# RETURNING THE INCORRECT DICTIONARY. GETTING AN ERROR\n",
    "model_rdms_dict = model_rdms.get_model_rdms(conditions, 'replay', SIZE = 'between_halves')\n",
    "\n",
    "model_rdms_dict_tri = data_rdms.get_data_rdms_tri(model_rdms_dict)\n",
    "\n",
    "\n",
    "# plt.figure(figsize=(50, 50))\n",
    "plt.imshow(model_rdms_dict['replay'])\n",
    "plt.yticks(np.arange(0, len(list(model_rdms_dict['replay'].index)), 1), list(model_rdms_dict['replay'].index))\n",
    "plt.xticks(np.arange(0, len(model_rdms_dict['replay'].columns), 1), model_rdms_dict['replay'].columns, rotation = 90)\n",
    "# add color bar\n",
    "plt.colorbar()\n",
    "\n",
    "plt.show()\n",
    "\n",
    "# model_rdms_dict_tri['replay']\n"
   ]
  },
  {
   "cell_type": "markdown",
   "metadata": {},
   "source": [
    "Evlaluation function with the model rdm"
   ]
  },
  {
   "cell_type": "code",
   "execution_count": 2,
   "metadata": {},
   "outputs": [
    {
     "ename": "NameError",
     "evalue": "name 'tqdm' is not defined",
     "output_type": "error",
     "traceback": [
      "\u001b[0;31m---------------------------------------------------------------------------\u001b[0m",
      "\u001b[0;31mNameError\u001b[0m                                 Traceback (most recent call last)",
      "Cell \u001b[0;32mIn[2], line 56\u001b[0m\n\u001b[1;32m      1\u001b[0m \u001b[38;5;66;03m# import statsmodels.api as sm\u001b[39;00m\n\u001b[1;32m      2\u001b[0m \n\u001b[1;32m      3\u001b[0m \u001b[38;5;66;03m# def evaluate_model(\u001b[39;00m\n\u001b[0;32m   (...)\u001b[0m\n\u001b[1;32m     50\u001b[0m \u001b[38;5;66;03m#     # return the tvalues, betas and pvalues\u001b[39;00m\n\u001b[1;32m     51\u001b[0m \u001b[38;5;66;03m#     return est.tvalues[1:], est.params[1:], est.pvalues[1:]\u001b[39;00m\n\u001b[1;32m     54\u001b[0m eval_result \u001b[38;5;241m=\u001b[39m []\n\u001b[0;32m---> 56\u001b[0m \u001b[38;5;28;01mfor\u001b[39;00m center \u001b[38;5;129;01min\u001b[39;00m \u001b[43mtqdm\u001b[49m(data_rdms_tri\u001b[38;5;241m.\u001b[39mcolumns, desc \u001b[38;5;241m=\u001b[39m \u001b[38;5;124m\"\u001b[39m\u001b[38;5;124mData Searchlights Running\u001b[39m\u001b[38;5;124m\"\u001b[39m):\n\u001b[1;32m     57\u001b[0m     \u001b[38;5;66;03m# print(data_rdms_tri[searchlight])\u001b[39;00m\n\u001b[1;32m     58\u001b[0m     \u001b[38;5;66;03m# print(model_rdms_dict_tri['replay'])\u001b[39;00m\n\u001b[1;32m     59\u001b[0m     eval_result\u001b[38;5;241m.\u001b[39mappend(\n\u001b[1;32m     60\u001b[0m         data_rdms\u001b[38;5;241m.\u001b[39mevaluate_model(\n\u001b[1;32m     61\u001b[0m         Y \u001b[38;5;241m=\u001b[39m data_rdms_tri[center],          \u001b[38;5;66;03m# Get the data RDM for that center\u001b[39;00m\n\u001b[1;32m     62\u001b[0m         X \u001b[38;5;241m=\u001b[39m model_rdms_dict_tri[\u001b[38;5;124m'\u001b[39m\u001b[38;5;124mreplay\u001b[39m\u001b[38;5;124m'\u001b[39m]   \u001b[38;5;66;03m# Get the model RDM (the same for each centre)\u001b[39;00m\n\u001b[1;32m     63\u001b[0m         )\n\u001b[1;32m     64\u001b[0m     )\n\u001b[1;32m     65\u001b[0m     \u001b[38;5;66;03m# break\u001b[39;00m\n\u001b[1;32m     66\u001b[0m \u001b[38;5;66;03m# eval_result = Parallel(n_jobs=3)(delayed(evaluate_model)(\u001b[39;00m\n\u001b[1;32m     67\u001b[0m \u001b[38;5;66;03m#     Y = model_rdms_dict_tri['replay'],                            # Model that is being evaluated              \u001b[39;00m\n\u001b[1;32m     68\u001b[0m \u001b[38;5;66;03m#     X = data_rdms_tri[searchlight]\u001b[39;00m\n\u001b[1;32m     69\u001b[0m \u001b[38;5;66;03m#     ) for searchlight in tqdm(data_rdms_tri.columns, desc = \"Data Searchlights Running\"))   # (from the list of data RDMs)\u001b[39;00m\n",
      "\u001b[0;31mNameError\u001b[0m: name 'tqdm' is not defined"
     ]
    }
   ],
   "source": [
    "# import statsmodels.api as sm\n",
    "\n",
    "# def evaluate_model(\n",
    "#         Y,\n",
    "#         X \n",
    "#         ):\n",
    "#     \"\"\"\n",
    "#     Evaluates fit of model to data using OLS regression.\n",
    "    \n",
    "#     Predicting the data from the model\n",
    "#     Y (data) = bX (model) + C\n",
    "\n",
    "#     Parameters\n",
    "#         model: \n",
    "#         data\n",
    "\n",
    "#     Returns\n",
    "#         tvalues\n",
    "#         betas\n",
    "#         pvalues\n",
    "#     \"\"\"\n",
    "    \n",
    "#     # model = sm.add_constant(model.rdm.transpose());\n",
    "#     # data = data.dissimilarities.transpose();\n",
    "    \n",
    "#     # to filter out potential nans in the model part\n",
    "#     # nan_filter = np.isnan(model).any(axis=1)\n",
    "#     # filtered_model = model[~nan_filter]\n",
    "#     # filtered_data = data[~nan_filter]\n",
    "    \n",
    "#     # estimate OLS model\n",
    "#     # est = sm.OLS(filtered_data, filtered_model).fit()\n",
    "#     # print(X)\n",
    "#     # print(Y)\n",
    "\n",
    "#     # Y = Y.reset_index(drop=True)\n",
    "#     # Y = sm.add_constant(Y) \n",
    "\n",
    "#     # X = X.reset_index(drop=True)\n",
    "#     X = sm.add_constant(X)\n",
    "#     # print(X.shape, Y.shape)\n",
    "\n",
    "#     nan_filter = np.isnan(X).any(axis=1)\n",
    "#     X = X[~nan_filter]\n",
    "#     Y = Y[~nan_filter]\n",
    "\n",
    "#     est = sm.OLS(Y, X)\n",
    "#     est = est.fit()\n",
    "    \n",
    "#     # return the tvalues, betas and pvalues\n",
    "#     return est.tvalues[1:], est.params[1:], est.pvalues[1:]\n",
    "\n",
    "\n",
    "eval_result = []\n",
    "\n",
    "for center in tqdm(data_rdms_tri.columns, desc = \"Data Searchlights Running\"):\n",
    "    # print(data_rdms_tri[searchlight])\n",
    "    # print(model_rdms_dict_tri['replay'])\n",
    "    eval_result.append(\n",
    "        data_rdms.evaluate_model(\n",
    "        Y = data_rdms_tri[center],          # Get the data RDM for that center\n",
    "        X = model_rdms_dict_tri['replay']   # Get the model RDM (the same for each centre)\n",
    "        )\n",
    "    )\n",
    "    # break\n",
    "# eval_result = Parallel(n_jobs=3)(delayed(evaluate_model)(\n",
    "#     Y = model_rdms_dict_tri['replay'],                            # Model that is being evaluated              \n",
    "#     X = data_rdms_tri[searchlight]\n",
    "#     ) for searchlight in tqdm(data_rdms_tri.columns, desc = \"Data Searchlights Running\"))   # (from the list of data RDMs)\n",
    "\n",
    "\n"
   ]
  },
  {
   "cell_type": "code",
   "execution_count": 186,
   "metadata": {},
   "outputs": [
    {
     "data": {
      "text/plain": [
       "162243"
      ]
     },
     "execution_count": 186,
     "metadata": {},
     "output_type": "execute_result"
    }
   ],
   "source": [
    "# data_rdms_tri.columns\n",
    "len(eval_result)"
   ]
  },
  {
   "cell_type": "markdown",
   "metadata": {},
   "source": [
    "Need to work out how the evaluation function works to fit the model"
   ]
  },
  {
   "cell_type": "code",
   "execution_count": 5,
   "metadata": {},
   "outputs": [
    {
     "ename": "NameError",
     "evalue": "name 'SUBJECT_DIRECTORY' is not defined",
     "output_type": "error",
     "traceback": [
      "\u001b[0;31m---------------------------------------------------------------------------\u001b[0m",
      "\u001b[0;31mNameError\u001b[0m                                 Traceback (most recent call last)",
      "Cell \u001b[0;32mIn[5], line 1\u001b[0m\n\u001b[0;32m----> 1\u001b[0m mask \u001b[38;5;241m=\u001b[39m load_img(\u001b[38;5;124mf\u001b[39m\u001b[38;5;124m\"\u001b[39m\u001b[38;5;132;01m{\u001b[39;00m\u001b[43mSUBJECT_DIRECTORY\u001b[49m\u001b[38;5;132;01m}\u001b[39;00m\u001b[38;5;124m/anat/\u001b[39m\u001b[38;5;132;01m{\u001b[39;00mSUB\u001b[38;5;132;01m}\u001b[39;00m\u001b[38;5;124m_T1w_noCSF_brain_mask_bin_func_01.nii.gz\u001b[39m\u001b[38;5;124m\"\u001b[39m)\n\u001b[1;32m      4\u001b[0m data_rdms\u001b[38;5;241m.\u001b[39msave_RSA_result(\n\u001b[1;32m      5\u001b[0m     results_file \u001b[38;5;241m=\u001b[39m eval_result, \n\u001b[1;32m      6\u001b[0m     data_rdms_tri \u001b[38;5;241m=\u001b[39m data_rdms_tri,\n\u001b[1;32m      7\u001b[0m     mask \u001b[38;5;241m=\u001b[39m mask,         \n\u001b[1;32m      8\u001b[0m     results_directory \u001b[38;5;241m=\u001b[39m \u001b[38;5;124m'\u001b[39m\u001b[38;5;124m/Users/student/PycharmProjects/data/derivatives/sub-02/func/RSA_replay/\u001b[39m\u001b[38;5;124m'\u001b[39m\n\u001b[1;32m      9\u001b[0m     )\n\u001b[1;32m     14\u001b[0m eval_result[\u001b[38;5;241m0\u001b[39m]\n",
      "\u001b[0;31mNameError\u001b[0m: name 'SUBJECT_DIRECTORY' is not defined"
     ]
    }
   ],
   "source": [
    "mask = load_img(f\"{SUBJECT_DIRECTORY}/anat/{SUB}_T1w_noCSF_brain_mask_bin_func_01.nii.gz\")\n",
    "\n",
    "\n",
    "def save_RSA_result(\n",
    "    results_file = eval_result, \n",
    "    data_rdms_tri = data_rdms_tri,\n",
    "    mask = mask,         \n",
    "    results_directory = '/Users/student/PycharmProjects/data/derivatives/sub-02/func/RSA_replay/'\n",
    "    ):\n",
    "\n",
    "    # get the shape of the brain to be saved into\n",
    "    x, y, z = mask.shape\n",
    "\n",
    "    # Create a 1D array of the brain that will store the results\n",
    "    t_values = np.zeros([x * y * z])\n",
    "    b_values = np.zeros([x * y * z])\n",
    "    p_values = np.zeros([x * y * z])\n",
    "    # for each value in the data_rdms_tri.columns we have the tvalues, betas and pvalues in the eval_result list, inorder\n",
    "    for idx, centers in enumerate(data_rdms_tri.columns):\n",
    "        # Unpack each value from the 3 x 1 tuple list and store them in the 1D arrays of the same size as the brain \n",
    "        t_values[centers] = results_file[idx][0]\n",
    "        b_values[centers] = results_file[idx][1]\n",
    "        p_values[centers] = results_file[idx][2]\n",
    "\n",
    "    # reshape the 1D arrays to the shape of the brain\n",
    "    t_values = np.reshape(t_values, mask.shape)\n",
    "    b_values = np.reshape(b_values, mask.shape)\n",
    "    p_values = np.reshape(p_values, mask.shape)\n",
    "\n",
    "    print(t_values.shape)\n",
    "\n",
    "    # save the results to a nifti file\n",
    "    t_values = nib.Nifti1Image(t_values, mask.affine)\n",
    "    b_values = nib.Nifti1Image(b_values, mask.affine)\n",
    "    p_values = nib.Nifti1Image(p_values, mask.affine)\n",
    "\n",
    "    # save results to the correct directory of the brain \n",
    "    nib.save(t_values, results_directory + 't_values.nii.gz')  \n",
    "    nib.save(b_values, results_directory + 'b_values.nii.gz')\n",
    "    nib.save(p_values, results_directory + 'p_values.nii.gz')\n",
    "\n",
    "\n",
    "data_rdms.save_RSA_result(\n",
    "    results_file = eval_result, \n",
    "    data_rdms_tri = data_rdms_tri,\n",
    "    mask = mask,         \n",
    "    results_directory = '/Users/student/PycharmProjects/data/derivatives/sub-02/func/RSA_replay/'\n",
    "    )\n",
    "\n",
    "\n",
    "\n",
    "\n",
    "eval_result[0]\n",
    "    "
   ]
  },
  {
   "cell_type": "code",
   "execution_count": 119,
   "metadata": {},
   "outputs": [
    {
     "data": {
      "text/plain": [
       "162243"
      ]
     },
     "execution_count": 119,
     "metadata": {},
     "output_type": "execute_result"
    }
   ],
   "source": [
    "# for center in data_rdms_tri.columns:\n",
    "#     print(center)\n",
    "#     print(data_rdms_tri[center])\n",
    "\n",
    "#     center = 161427\n",
    "#     # print(model_rdms_dict_tri['replay'])\n",
    "#     break\n",
    "len(data_rdms_tri.columns)  "
   ]
  },
  {
   "cell_type": "code",
   "execution_count": 81,
   "metadata": {},
   "outputs": [
    {
     "data": {
      "text/plain": [
       "((23, 38, 19), (108, 108, 64))"
      ]
     },
     "execution_count": 81,
     "metadata": {},
     "output_type": "execute_result"
    }
   ],
   "source": [
    "center = 161427\n",
    "coord = np.unravel_index(center, mask.shape)\n",
    "coord, mask.shape"
   ]
  },
  {
   "cell_type": "markdown",
   "metadata": {},
   "source": [
    "Something to do with the size of the area that is being masked. "
   ]
  },
  {
   "cell_type": "code",
   "execution_count": null,
   "metadata": {},
   "outputs": [],
   "source": []
  }
 ],
 "metadata": {
  "kernelspec": {
   "display_name": "rsa",
   "language": "python",
   "name": "python3"
  },
  "language_info": {
   "codemirror_mode": {
    "name": "ipython",
    "version": 3
   },
   "file_extension": ".py",
   "mimetype": "text/x-python",
   "name": "python",
   "nbconvert_exporter": "python",
   "pygments_lexer": "ipython3",
   "version": "3.11.9"
  }
 },
 "nbformat": 4,
 "nbformat_minor": 2
}
